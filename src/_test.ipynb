{
 "cells": [
  {
   "cell_type": "code",
   "execution_count": null,
   "metadata": {},
   "outputs": [],
   "source": [
    "import os\n",
    "import json\n",
    "import glob\n",
    "import pickle\n",
    "import openparse\n",
    "from tqdm import tqdm\n",
    "from huggingface_hub import login\n",
    "import google.generativeai as genai\n",
    "from llama_index.core import Settings\n",
    "from llama_index.llms.gemini import Gemini\n",
    "from transformers import BitsAndBytesConfig\n",
    "from llama_index.llms.huggingface import HuggingFaceLLM\n",
    "from llama_index.finetuning import generate_qa_embedding_pairs\n",
    "from llama_index.core.llms.chatml_utils import messages_to_prompt, completion_to_prompt"
   ]
  },
  {
   "cell_type": "code",
   "execution_count": null,
   "metadata": {},
   "outputs": [],
   "source": [
    "HF_CACHE_DIR = \"../models/hf\"\n",
    "os.environ['HF_HOME'] = HF_CACHE_DIR\n",
    "\n",
    "TIKTOKEN_CACHE_DIR = \"../models/tiktoken\"\n",
    "os.environ[\"TIKTOKEN_CACHE_DIR\"] = TIKTOKEN_CACHE_DIR\n",
    "# assert os.path.exists(os.path.join(TIKTOKEN_CACHE_DIR, \"9b5ad71b2ce5302211f9c61530b329a4922fc6a4\"))"
   ]
  },
  {
   "cell_type": "code",
   "execution_count": null,
   "metadata": {},
   "outputs": [],
   "source": [
    "# Read API tokens (SHOULD BE CREATED BY USER)\n",
    "with open('../reqs/tokens.json', 'r') as file:\n",
    "    tokens = json.load(file)\n",
    "\n",
    "HF_ACCESS_TOKEN = tokens['HF_ACCESS_TOKEN'][0]\n",
    "GOOGLE_API_KEY = tokens['GOOGLE_API_KEY'][0]\n",
    "\n",
    "login(token=HF_ACCESS_TOKEN)"
   ]
  },
  {
   "cell_type": "markdown",
   "metadata": {},
   "source": [
    "# Test: Compare LLMs (with different settings)"
   ]
  },
  {
   "cell_type": "code",
   "execution_count": 2,
   "metadata": {},
   "outputs": [],
   "source": [
    "# # API Test\n",
    "# genai.configure(api_key=GOOGLE_API_KEY)\n",
    "# llm = genai.GenerativeModel(\"gemini-1.0-pro\")\n",
    "# response = llm.generate_content(\"Write a story about a magic backpack.\")\n",
    "# print(response.text)"
   ]
  },
  {
   "cell_type": "code",
   "execution_count": 3,
   "metadata": {},
   "outputs": [],
   "source": [
    "llm_gemini_100 = Gemini(\n",
    "    api_key = GOOGLE_API_KEY,\n",
    "    model = \"models/gemini-1.0-pro\",\n",
    "    temperature = 1,\n",
    ")\n",
    "\n",
    "llm_gemini_75 = Gemini(\n",
    "    api_key = GOOGLE_API_KEY,\n",
    "    model = \"models/gemini-1.0-pro\",\n",
    "    temperature = 0.75,\n",
    ")\n",
    "\n",
    "llm_gemini_50 = Gemini(\n",
    "    api_key = GOOGLE_API_KEY,\n",
    "    model = \"models/gemini-1.0-pro\",\n",
    "    temperature = 0.5,\n",
    ")\n",
    "\n",
    "llm_gemini_25 = Gemini(\n",
    "    api_key = GOOGLE_API_KEY,\n",
    "    model = \"models/gemini-1.0-pro\",\n",
    "    temperature = 0.25,\n",
    ")\n",
    "\n",
    "llm_gemini_0 = Gemini(\n",
    "    api_key = GOOGLE_API_KEY,\n",
    "    model = \"models/gemini-1.0-pro\",\n",
    "    temperature = 0.,\n",
    ")\n",
    "\n",
    "llms = {\n",
    "    \"gemini_100\": llm_gemini_100,\n",
    "    \"gemini_75\": llm_gemini_75,\n",
    "    \"gemini_50\": llm_gemini_50,\n",
    "    \"gemini_25\": llm_gemini_25,\n",
    "    \"gemini_0\": llm_gemini_0,\n",
    "}"
   ]
  },
  {
   "cell_type": "code",
   "execution_count": null,
   "metadata": {},
   "outputs": [],
   "source": [
    "# file = glob.glob(\"../data/finetune/docs/test/*.pdf\")[0]\n",
    "# pdf = openparse.Pdf(file)\n",
    "\n",
    "# parser = openparse.DocumentParser(\n",
    "#     table_args = {\n",
    "#         # 1. PyMuPDF has some table detection functionality like OCR. (FAST but still GOOD)\n",
    "#         \"parsing_algorithm\": \"pymupdf\",\n",
    "\n",
    "#         # # 2. unitable is a transformers based approach with state-of-the-art performance. (SLOW)\n",
    "#         # \"parsing_algorithm\": \"unitable\",\n",
    "#         # \"min_table_confidence\": 0.8,\n",
    "#     },\n",
    "# )\n",
    "\n",
    "# _nodes = parser.parse(file, ocr=True)\n",
    "# nodes = _nodes.to_llama_index_nodes()\n",
    "# with open('../data/finetune/docs/test/nodes.pkl', 'wb') as _file: pickle.dump(nodes, _file)\n",
    "\n",
    "# print(len(nodes))\n",
    "# # pdf.display_with_bboxes(_nodes.nodes)\n",
    "# pdf.export_with_bboxes(_nodes.nodes, output_pdf=file.replace(\".pdf\", \"_annotated.pdf\"))"
   ]
  },
  {
   "cell_type": "code",
   "execution_count": null,
   "metadata": {},
   "outputs": [],
   "source": [
    "with open(f'../data/finetune/docs/test/nodes.pkl', 'rb') as file:\n",
    "    nodes = pickle.load(file)\n",
    "\n",
    "for llm in llms:\n",
    "    # It first loads previous json files and continue from there\n",
    "    test_dataset = generate_qa_embedding_pairs(\n",
    "        llm = llms[llm],\n",
    "        nodes = nodes,\n",
    "        num_questions_per_chunk = 2,\n",
    "        output_path = f\"../data/finetune/datasets/test/test_{llm}.json\",\n",
    "    )"
   ]
  },
  {
   "cell_type": "code",
   "execution_count": 6,
   "metadata": {},
   "outputs": [],
   "source": [
    "# for node in _nodes.nodes:\n",
    "#     display(node)\n",
    "#     print(\"-------------------\")"
   ]
  },
  {
   "cell_type": "code",
   "execution_count": 7,
   "metadata": {},
   "outputs": [],
   "source": [
    "# class GoogleEmbeddings:\n",
    "#     def __init__(self, model, api_key):\n",
    "#         genai.configure(api_key=api_key)\n",
    "#         self.model = TextEmbeddingModel.from_pretrained(model)\n",
    "\n",
    "#     def embed_many(self, texts):\n",
    "#         res = []\n",
    "#         for i in range(0, len(texts), self.batch_size):\n",
    "#             batch_texts = texts[i : i + self.batch_size]\n",
    "#             api_resp = genai.embed_content(\n",
    "#                 model = self.model,\n",
    "#                 content = batch_texts,\n",
    "#                 task_type = \"SEMANTIC_SIMILARITY\",\n",
    "#             )\n",
    "#             batch_res = [val.embedding for val in api_resp.data]\n",
    "#             res.extend(batch_res)\n",
    "#         return res\n",
    "\n",
    "# def cosine_similarity(a, b):\n",
    "#     return np.dot(a, b) / (np.linalg.norm(a) * np.linalg.norm(b))\n",
    "\n",
    "\n",
    "# def get_node_similarities(nodes, embedding_client):\n",
    "#     # get the similarity of each node with the node that precedes it\n",
    "#     embeddings = embedding_client.embed_many([node.text for node in nodes])\n",
    "#     similarities = []\n",
    "#     for i in range(1, len(embeddings)):\n",
    "#         similarities.append(cosine_similarity(embeddings[i - 1], embeddings[i]))\n",
    "\n",
    "#     similarities = [round(sim, 2) for sim in similarities]\n",
    "#     return [0] + similarities\n",
    "\n",
    "\n",
    "# class MinimalIngestionPipeline(openparse.processing.IngestionPipeline):\n",
    "#     def __init__(self):\n",
    "#         self.transformations = [\n",
    "#             # combines bullets and weird formatting\n",
    "#             openparse.processing.CombineNodesSpatially(\n",
    "#                 x_error_margin=10,\n",
    "#                 y_error_margin=2,\n",
    "#                 criteria=\"both_small\",\n",
    "#             ),\n",
    "#             openparse.processing.CombineHeadingsWithClosestText(),\n",
    "#             openparse.processing.CombineBullets(),\n",
    "#             openparse.processing.RemoveMetadataElements(),\n",
    "#             openparse.processing.RemoveNodesBelowNTokens(min_tokens=10),\n",
    "#         ]"
   ]
  },
  {
   "cell_type": "code",
   "execution_count": 8,
   "metadata": {},
   "outputs": [],
   "source": [
    "# embedding_client = GoogleEmbeddings(\n",
    "#     api_key = GOOGLE_API_KEY,\n",
    "#     model = \"models/text-embedding-004\",\n",
    "# )\n",
    "\n",
    "# # perform very basic parsing to clean up the document\n",
    "# doc = openparse.Pdf(file=file)\n",
    "# parser = openparse.DocumentParser(\n",
    "#     table_args = {\n",
    "#         # 1. PyMuPDF has some table detection functionality like OCR. (FAST but still GOOD)\n",
    "#         \"parsing_algorithm\": \"pymupdf\",\n",
    "\n",
    "#         # # 2. unitable is a transformers based approach with state-of-the-art performance. (SLOW)\n",
    "#         # \"parsing_algorithm\": \"unitable\",\n",
    "#         # \"min_table_confidence\": 0.8,\n",
    "#     },\n",
    "#     processing_pipeline = MinimalIngestionPipeline(),\n",
    "# )\n",
    "# parsed_content = parser.parse(file, ocr=True)\n",
    "\n",
    "# # annotate the document with similarity scores\n",
    "# annotations = get_node_similarities(parsed_content.nodes, embedding_client)\n",
    "# doc.display_with_bboxes(\n",
    "#     parsed_content.nodes, annotations=annotations, page_nums=[2, 3, 4]\n",
    "# )"
   ]
  }
 ],
 "metadata": {
  "kernelspec": {
   "display_name": "venv",
   "language": "python",
   "name": "python3"
  },
  "language_info": {
   "codemirror_mode": {
    "name": "ipython",
    "version": 3
   },
   "file_extension": ".py",
   "mimetype": "text/x-python",
   "name": "python",
   "nbconvert_exporter": "python",
   "pygments_lexer": "ipython3",
   "version": "3.9.13"
  }
 },
 "nbformat": 4,
 "nbformat_minor": 2
}
